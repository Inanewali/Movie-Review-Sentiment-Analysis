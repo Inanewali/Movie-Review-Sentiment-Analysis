# Sentiment Analysis on Movie Reviews
# Author: Syed Waliullah

import pandas as pd
import numpy as np
import matplotlib.pyplot as plt
from sklearn.datasets import load_files
from sklearn.feature_extraction.text import TfidfVectorizer
from sklearn.model_selection import train_test_split
from sklearn.naive_bayes import MultinomialNB
from sklearn.metrics import classification_report, confusion_matrix, accuracy_score
import seaborn as sns

# 1. Load dataset (example: movie reviews dataset from nltk or custom)
from sklearn.datasets import fetch_20newsgroups
data = fetch_20newsgroups(subset='all', categories=['rec.autos', 'rec.sport.hockey'],
                          shuffle=True, random_state=42)

X = data.data
y = data.target

# 2. Split data
X_train, X_test, y_train, y_test = train_test_split(X, y, test_size=0.2, random_state=42)

# 3. Vectorize text
vectorizer = TfidfVectorizer(stop_words="english", max_features=5000)
X_train_vec = vectorizer.fit_transform(X_train)
X_test_vec = vectorizer.transform(X_test)

# 4. Train model
model = MultinomialNB()
model.fit(X_train_vec, y_train)

# 5. Predictions
y_pred = model.predict(X_test_vec)

# 6. Evaluation
print("Accuracy:", accuracy_score(y_test, y_pred))
print("\nClassification Report:\n", classification_report(y_test, y_pred))

# Confusion Matrix
cm = confusion_matrix(y_test, y_pred)
plt.figure(figsize=(5,5))
sns.heatmap(cm, annot=True, fmt='d', cmap="Blues", xticklabels=data.target_names, yticklabels=data.target_names)
plt.xlabel("Predicted")
plt.ylabel("Actual")
plt.title("Confusion Matrix")
plt.show()

# 7. Test custom review
custom_review = ["The movie was absolutely fantastic, I loved it!", 
                 "It was a waste of time, very boring and predictable."]
custom_vec = vectorizer.transform(custom_review)
pred = model.predict(custom_vec)
for txt, label in zip(custom_review, pred):
    print(f"Review: {txt} -> Prediction: {data.target_names[label]}")
